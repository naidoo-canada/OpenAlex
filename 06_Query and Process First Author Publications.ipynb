{
 "cells": [
  {
   "cell_type": "markdown",
   "id": "26326964",
   "metadata": {},
   "source": [
    "# Query and Process First Author Publications\n",
    "\n",
    "#### Updated: Sep 27, 2022"
   ]
  },
  {
   "cell_type": "markdown",
   "id": "a61fe8df",
   "metadata": {},
   "source": [
    "#  "
   ]
  },
  {
   "cell_type": "markdown",
   "id": "fe7274e8",
   "metadata": {},
   "source": [
    "Query and process subset of first author publications for a country of interest, over the past 5 years. Make functions generalizable for any country. "
   ]
  },
  {
   "cell_type": "code",
   "execution_count": 14,
   "id": "10a07e6e",
   "metadata": {},
   "outputs": [],
   "source": [
    "import pandas as pd\n",
    "import numpy as np\n",
    "from datetime import date\n",
    "import ast\n",
    "import requests\n",
    "import time\n",
    "import os"
   ]
  },
  {
   "cell_type": "markdown",
   "id": "d3a41160",
   "metadata": {},
   "source": [
    "#  "
   ]
  },
  {
   "cell_type": "markdown",
   "id": "bc56c431",
   "metadata": {},
   "source": [
    "#### Functions:"
   ]
  },
  {
   "cell_type": "code",
   "execution_count": 15,
   "id": "288843dc",
   "metadata": {},
   "outputs": [],
   "source": [
    "def construct_query_string_cursor(endpoint, filters, cursor='*'):\n",
    "    \n",
    "    filter_param = f'filter={\",\".join(filters)}'\n",
    "    filtered_works_url = f'https://api.openalex.org/{endpoint}?mailto=naidoo@ualberta.ca&{filter_param}&per-page=200&cursor={cursor}'\n",
    "    print(filtered_works_url)\n",
    "    \n",
    "    return filtered_works_url"
   ]
  },
  {
   "cell_type": "code",
   "execution_count": 16,
   "id": "6463400b",
   "metadata": {},
   "outputs": [],
   "source": [
    "def isolate_country_first_auth_pubs(country_code, df_resp):\n",
    "\n",
    "    country_first_indicies = []\n",
    "    for i in range(0, len(df_resp)):\n",
    "        authorships_dict = df_resp['authorships'][i]\n",
    "        for j in range(0, len(authorships_dict)):\n",
    "            if authorships_dict[j]['author_position'] == 'first': \n",
    "                first_auth_insts = authorships_dict[j]['institutions']\n",
    "                if len(first_auth_insts) > 0:\n",
    "                    for k in range(0, len(first_auth_insts)): \n",
    "                        if len(first_auth_insts[k]) > 0:\n",
    "                            if first_auth_insts[k]['country_code'] == country_code:\n",
    "                                country_first_indicies.append(i)\n",
    "                        \n",
    "    df_country_first = df_resp.iloc[country_first_indicies]\n",
    "    \n",
    "    return df_country_first"
   ]
  },
  {
   "cell_type": "markdown",
   "id": "ff77cbae",
   "metadata": {},
   "source": [
    "#  "
   ]
  },
  {
   "cell_type": "markdown",
   "id": "5b488e69",
   "metadata": {},
   "source": [
    "#### Select the bilateral relationship, and timeframe of interest:"
   ]
  },
  {
   "cell_type": "code",
   "execution_count": 17,
   "id": "0d6ae3f2",
   "metadata": {},
   "outputs": [],
   "source": [
    "country_code = 'GB'\n",
    "country_code_collab = 'ES'\n",
    "years_back = 5"
   ]
  },
  {
   "cell_type": "code",
   "execution_count": 18,
   "id": "148a0fb5",
   "metadata": {},
   "outputs": [],
   "source": [
    "dataDir = '/Users/rnaidoo/Documents/Canada-Secure/GAC/2022_MDRID/Projects_data/OpenAlex/works_' + country_code + '_first_auth/'\n",
    "dataDir_col = dataDir + country_code_collab + '_col/'\n",
    "os.makedirs(dataDir_col, exist_ok=True)"
   ]
  },
  {
   "cell_type": "code",
   "execution_count": 19,
   "id": "7c444e50",
   "metadata": {},
   "outputs": [],
   "source": [
    "current_year = date.today().year\n",
    "year_i = current_year - years_back\n",
    "year_f = current_year + 1"
   ]
  },
  {
   "cell_type": "code",
   "execution_count": 20,
   "id": "ad182e0f",
   "metadata": {},
   "outputs": [
    {
     "data": {
      "text/plain": [
       "2017"
      ]
     },
     "execution_count": 20,
     "metadata": {},
     "output_type": "execute_result"
    }
   ],
   "source": [
    "year_i"
   ]
  },
  {
   "cell_type": "code",
   "execution_count": 21,
   "id": "6f4a370c",
   "metadata": {},
   "outputs": [
    {
     "data": {
      "text/plain": [
       "2023"
      ]
     },
     "execution_count": 21,
     "metadata": {},
     "output_type": "execute_result"
    }
   ],
   "source": [
    "year_f"
   ]
  },
  {
   "cell_type": "markdown",
   "id": "9a4d6560",
   "metadata": {},
   "source": [
    "#  "
   ]
  },
  {
   "cell_type": "markdown",
   "id": "158c6ae2",
   "metadata": {},
   "source": [
    "#### Query yearly batches, for the last 5 years."
   ]
  },
  {
   "cell_type": "code",
   "execution_count": null,
   "id": "668111ae",
   "metadata": {
    "scrolled": true
   },
   "outputs": [],
   "source": [
    "for year in range(year_i, year_f): #range(2017, 2023)\n",
    "\n",
    "    endpoint = 'works'\n",
    "    filters = [('institutions.country_code:' + country_code), 'publication_year:' + str(year)] #'publication_year:>2017'\n",
    "    save_filename = 'works_' + country_code + '_' + str(year) + '.csv'\n",
    "    batch_size = 50\n",
    "\n",
    "    start = time.time()\n",
    "\n",
    "    #Start cursor pagination\n",
    "    filtered_works_url = construct_query_string_cursor(endpoint=endpoint, filters=filters)\n",
    "    response = requests.get(filtered_works_url)\n",
    "    response_count = response.json()['meta']['count']\n",
    "    print('Total number of results: ' + str(response_count))\n",
    "    pages = round(np.floor(response_count/200))\n",
    "    remainder = np.remainder(response_count, 200)\n",
    "    print('Processing ' + str(pages) + ' additional pages...')\n",
    "    df_response = pd.DataFrame(response.json()['results'])\n",
    "    df_country = isolate_country_first_auth_pubs(country_code=country_code, df_resp=df_response)\n",
    "    df_country.to_csv(dataDir + save_filename, index=False)\n",
    "    next_cursor = response.json()['meta']['next_cursor']\n",
    "\n",
    "    #Process batches of pages\n",
    "    batches = round(np.floor(pages/batch_size))\n",
    "    batch_remainder = np.remainder(pages, batch_size)\n",
    "\n",
    "    #Loop through pages in batch\n",
    "    for i in range(0, batches):\n",
    "        df_batch = pd.DataFrame()\n",
    "        for j in range(0, batch_size):\n",
    "            filtered_works_url = construct_query_string_cursor(endpoint=endpoint, filters=filters, cursor=next_cursor)\n",
    "            response = requests.get(filtered_works_url)\n",
    "            df_response = pd.DataFrame(response.json()['results'])\n",
    "            df_resp_proc = isolate_country_first_auth_pubs(country_code=country_code, df_resp=df_response)\n",
    "            df_batch = pd.concat([df_batch, df_resp_proc])\n",
    "            next_cursor = response.json()['meta']['next_cursor']\n",
    "        df_country_load = pd.read_csv(dataDir + save_filename)\n",
    "        df_country = pd.concat([df_country_load, df_batch])\n",
    "        df_country.to_csv(dataDir + save_filename, index=False)\n",
    "\n",
    "    #Loop through pages in final batch\n",
    "    df_batch = pd.DataFrame()\n",
    "    for i in range(0, batch_remainder):\n",
    "        filtered_works_url = construct_query_string_cursor(endpoint=endpoint, filters=filters, cursor=next_cursor)\n",
    "        response = requests.get(filtered_works_url)\n",
    "        df_response = pd.DataFrame(response.json()['results'])\n",
    "        df_resp_proc = isolate_country_first_auth_pubs(country_code=country_code, df_resp=df_response)\n",
    "        df_batch = pd.concat([df_batch, df_resp_proc])\n",
    "        next_cursor = response.json()['meta']['next_cursor']\n",
    "    df_country_load = pd.read_csv(dataDir + save_filename)\n",
    "    df_country = pd.concat([df_country_load, df_batch])\n",
    "    df_country.to_csv(dataDir + save_filename, index=False)\n",
    "\n",
    "    end = time.time()   \n",
    "    t = end - start\n",
    "    print('Runtime: ' + str(round(t/60, 1)) + ' min')"
   ]
  },
  {
   "cell_type": "markdown",
   "id": "c3091348",
   "metadata": {},
   "source": [
    "#  "
   ]
  },
  {
   "cell_type": "markdown",
   "id": "d5836267",
   "metadata": {},
   "source": [
    "#### Identify those publications with collaborators from the other country of interest:"
   ]
  },
  {
   "cell_type": "code",
   "execution_count": 8,
   "id": "4e386142",
   "metadata": {
    "scrolled": true
   },
   "outputs": [
    {
     "name": "stdout",
     "output_type": "stream",
     "text": [
      "Processing... works_GB_2017.csv\n"
     ]
    },
    {
     "name": "stderr",
     "output_type": "stream",
     "text": [
      "/var/folders/_k/dq0rn3rs5438vj_0c6dwhhyr0000gn/T/ipykernel_36702/28063675.py:5: FutureWarning: The default dtype for empty Series will be 'object' instead of 'float64' in a future version. Specify a dtype explicitly to silence this warning.\n",
      "  df1['first_author'] = pd.Series()\n",
      "/var/folders/_k/dq0rn3rs5438vj_0c6dwhhyr0000gn/T/ipykernel_36702/28063675.py:6: FutureWarning: The default dtype for empty Series will be 'object' instead of 'float64' in a future version. Specify a dtype explicitly to silence this warning.\n",
      "  df1['first_auth_orcid'] = pd.Series()\n",
      "/var/folders/_k/dq0rn3rs5438vj_0c6dwhhyr0000gn/T/ipykernel_36702/28063675.py:7: FutureWarning: The default dtype for empty Series will be 'object' instead of 'float64' in a future version. Specify a dtype explicitly to silence this warning.\n",
      "  df1['first_auth_inst'] = pd.Series()\n",
      "/var/folders/_k/dq0rn3rs5438vj_0c6dwhhyr0000gn/T/ipykernel_36702/28063675.py:8: FutureWarning: The default dtype for empty Series will be 'object' instead of 'float64' in a future version. Specify a dtype explicitly to silence this warning.\n",
      "  df1['first_auth_country'] = pd.Series()\n",
      "/var/folders/_k/dq0rn3rs5438vj_0c6dwhhyr0000gn/T/ipykernel_36702/28063675.py:9: FutureWarning: The default dtype for empty Series will be 'object' instead of 'float64' in a future version. Specify a dtype explicitly to silence this warning.\n",
      "  df1['collaborators_of_interest'] = pd.Series()\n"
     ]
    },
    {
     "name": "stdout",
     "output_type": "stream",
     "text": [
      "Processing... works_GB_2019.csv\n"
     ]
    },
    {
     "name": "stderr",
     "output_type": "stream",
     "text": [
      "/var/folders/_k/dq0rn3rs5438vj_0c6dwhhyr0000gn/T/ipykernel_36702/28063675.py:5: FutureWarning: The default dtype for empty Series will be 'object' instead of 'float64' in a future version. Specify a dtype explicitly to silence this warning.\n",
      "  df1['first_author'] = pd.Series()\n",
      "/var/folders/_k/dq0rn3rs5438vj_0c6dwhhyr0000gn/T/ipykernel_36702/28063675.py:6: FutureWarning: The default dtype for empty Series will be 'object' instead of 'float64' in a future version. Specify a dtype explicitly to silence this warning.\n",
      "  df1['first_auth_orcid'] = pd.Series()\n",
      "/var/folders/_k/dq0rn3rs5438vj_0c6dwhhyr0000gn/T/ipykernel_36702/28063675.py:7: FutureWarning: The default dtype for empty Series will be 'object' instead of 'float64' in a future version. Specify a dtype explicitly to silence this warning.\n",
      "  df1['first_auth_inst'] = pd.Series()\n",
      "/var/folders/_k/dq0rn3rs5438vj_0c6dwhhyr0000gn/T/ipykernel_36702/28063675.py:8: FutureWarning: The default dtype for empty Series will be 'object' instead of 'float64' in a future version. Specify a dtype explicitly to silence this warning.\n",
      "  df1['first_auth_country'] = pd.Series()\n",
      "/var/folders/_k/dq0rn3rs5438vj_0c6dwhhyr0000gn/T/ipykernel_36702/28063675.py:9: FutureWarning: The default dtype for empty Series will be 'object' instead of 'float64' in a future version. Specify a dtype explicitly to silence this warning.\n",
      "  df1['collaborators_of_interest'] = pd.Series()\n"
     ]
    },
    {
     "name": "stdout",
     "output_type": "stream",
     "text": [
      "Processing... works_GB_2018.csv\n"
     ]
    },
    {
     "name": "stderr",
     "output_type": "stream",
     "text": [
      "/var/folders/_k/dq0rn3rs5438vj_0c6dwhhyr0000gn/T/ipykernel_36702/28063675.py:5: FutureWarning: The default dtype for empty Series will be 'object' instead of 'float64' in a future version. Specify a dtype explicitly to silence this warning.\n",
      "  df1['first_author'] = pd.Series()\n",
      "/var/folders/_k/dq0rn3rs5438vj_0c6dwhhyr0000gn/T/ipykernel_36702/28063675.py:6: FutureWarning: The default dtype for empty Series will be 'object' instead of 'float64' in a future version. Specify a dtype explicitly to silence this warning.\n",
      "  df1['first_auth_orcid'] = pd.Series()\n",
      "/var/folders/_k/dq0rn3rs5438vj_0c6dwhhyr0000gn/T/ipykernel_36702/28063675.py:7: FutureWarning: The default dtype for empty Series will be 'object' instead of 'float64' in a future version. Specify a dtype explicitly to silence this warning.\n",
      "  df1['first_auth_inst'] = pd.Series()\n",
      "/var/folders/_k/dq0rn3rs5438vj_0c6dwhhyr0000gn/T/ipykernel_36702/28063675.py:8: FutureWarning: The default dtype for empty Series will be 'object' instead of 'float64' in a future version. Specify a dtype explicitly to silence this warning.\n",
      "  df1['first_auth_country'] = pd.Series()\n",
      "/var/folders/_k/dq0rn3rs5438vj_0c6dwhhyr0000gn/T/ipykernel_36702/28063675.py:9: FutureWarning: The default dtype for empty Series will be 'object' instead of 'float64' in a future version. Specify a dtype explicitly to silence this warning.\n",
      "  df1['collaborators_of_interest'] = pd.Series()\n"
     ]
    },
    {
     "name": "stdout",
     "output_type": "stream",
     "text": [
      "Processing... works_GB_2020.csv\n"
     ]
    },
    {
     "name": "stderr",
     "output_type": "stream",
     "text": [
      "/var/folders/_k/dq0rn3rs5438vj_0c6dwhhyr0000gn/T/ipykernel_36702/28063675.py:5: FutureWarning: The default dtype for empty Series will be 'object' instead of 'float64' in a future version. Specify a dtype explicitly to silence this warning.\n",
      "  df1['first_author'] = pd.Series()\n",
      "/var/folders/_k/dq0rn3rs5438vj_0c6dwhhyr0000gn/T/ipykernel_36702/28063675.py:6: FutureWarning: The default dtype for empty Series will be 'object' instead of 'float64' in a future version. Specify a dtype explicitly to silence this warning.\n",
      "  df1['first_auth_orcid'] = pd.Series()\n",
      "/var/folders/_k/dq0rn3rs5438vj_0c6dwhhyr0000gn/T/ipykernel_36702/28063675.py:7: FutureWarning: The default dtype for empty Series will be 'object' instead of 'float64' in a future version. Specify a dtype explicitly to silence this warning.\n",
      "  df1['first_auth_inst'] = pd.Series()\n",
      "/var/folders/_k/dq0rn3rs5438vj_0c6dwhhyr0000gn/T/ipykernel_36702/28063675.py:8: FutureWarning: The default dtype for empty Series will be 'object' instead of 'float64' in a future version. Specify a dtype explicitly to silence this warning.\n",
      "  df1['first_auth_country'] = pd.Series()\n",
      "/var/folders/_k/dq0rn3rs5438vj_0c6dwhhyr0000gn/T/ipykernel_36702/28063675.py:9: FutureWarning: The default dtype for empty Series will be 'object' instead of 'float64' in a future version. Specify a dtype explicitly to silence this warning.\n",
      "  df1['collaborators_of_interest'] = pd.Series()\n"
     ]
    },
    {
     "name": "stdout",
     "output_type": "stream",
     "text": [
      "Processing... works_GB_2021.csv\n"
     ]
    },
    {
     "name": "stderr",
     "output_type": "stream",
     "text": [
      "/var/folders/_k/dq0rn3rs5438vj_0c6dwhhyr0000gn/T/ipykernel_36702/28063675.py:5: FutureWarning: The default dtype for empty Series will be 'object' instead of 'float64' in a future version. Specify a dtype explicitly to silence this warning.\n",
      "  df1['first_author'] = pd.Series()\n",
      "/var/folders/_k/dq0rn3rs5438vj_0c6dwhhyr0000gn/T/ipykernel_36702/28063675.py:6: FutureWarning: The default dtype for empty Series will be 'object' instead of 'float64' in a future version. Specify a dtype explicitly to silence this warning.\n",
      "  df1['first_auth_orcid'] = pd.Series()\n",
      "/var/folders/_k/dq0rn3rs5438vj_0c6dwhhyr0000gn/T/ipykernel_36702/28063675.py:7: FutureWarning: The default dtype for empty Series will be 'object' instead of 'float64' in a future version. Specify a dtype explicitly to silence this warning.\n",
      "  df1['first_auth_inst'] = pd.Series()\n",
      "/var/folders/_k/dq0rn3rs5438vj_0c6dwhhyr0000gn/T/ipykernel_36702/28063675.py:8: FutureWarning: The default dtype for empty Series will be 'object' instead of 'float64' in a future version. Specify a dtype explicitly to silence this warning.\n",
      "  df1['first_auth_country'] = pd.Series()\n",
      "/var/folders/_k/dq0rn3rs5438vj_0c6dwhhyr0000gn/T/ipykernel_36702/28063675.py:9: FutureWarning: The default dtype for empty Series will be 'object' instead of 'float64' in a future version. Specify a dtype explicitly to silence this warning.\n",
      "  df1['collaborators_of_interest'] = pd.Series()\n"
     ]
    },
    {
     "name": "stdout",
     "output_type": "stream",
     "text": [
      "Processing... works_GB_2022.csv\n"
     ]
    },
    {
     "name": "stderr",
     "output_type": "stream",
     "text": [
      "/var/folders/_k/dq0rn3rs5438vj_0c6dwhhyr0000gn/T/ipykernel_36702/28063675.py:5: FutureWarning: The default dtype for empty Series will be 'object' instead of 'float64' in a future version. Specify a dtype explicitly to silence this warning.\n",
      "  df1['first_author'] = pd.Series()\n",
      "/var/folders/_k/dq0rn3rs5438vj_0c6dwhhyr0000gn/T/ipykernel_36702/28063675.py:6: FutureWarning: The default dtype for empty Series will be 'object' instead of 'float64' in a future version. Specify a dtype explicitly to silence this warning.\n",
      "  df1['first_auth_orcid'] = pd.Series()\n",
      "/var/folders/_k/dq0rn3rs5438vj_0c6dwhhyr0000gn/T/ipykernel_36702/28063675.py:7: FutureWarning: The default dtype for empty Series will be 'object' instead of 'float64' in a future version. Specify a dtype explicitly to silence this warning.\n",
      "  df1['first_auth_inst'] = pd.Series()\n",
      "/var/folders/_k/dq0rn3rs5438vj_0c6dwhhyr0000gn/T/ipykernel_36702/28063675.py:8: FutureWarning: The default dtype for empty Series will be 'object' instead of 'float64' in a future version. Specify a dtype explicitly to silence this warning.\n",
      "  df1['first_auth_country'] = pd.Series()\n",
      "/var/folders/_k/dq0rn3rs5438vj_0c6dwhhyr0000gn/T/ipykernel_36702/28063675.py:9: FutureWarning: The default dtype for empty Series will be 'object' instead of 'float64' in a future version. Specify a dtype explicitly to silence this warning.\n",
      "  df1['collaborators_of_interest'] = pd.Series()\n"
     ]
    }
   ],
   "source": [
    "for file in os.listdir(dataDir):\n",
    "    if 'works_' + country_code + '_' in file:\n",
    "        print('Processing... ' + file)\n",
    "        df1 = pd.read_csv(dataDir + file)\n",
    "        df1['first_author'] = pd.Series()\n",
    "        df1['first_auth_orcid'] = pd.Series()\n",
    "        df1['first_auth_inst'] = pd.Series()\n",
    "        df1['first_auth_country'] = pd.Series()\n",
    "        df1['collaborators_of_interest'] = pd.Series()\n",
    "        \n",
    "        for i in range(0, len(df1)):\n",
    "            auth_list_ = df1.iloc[i]['authorships']\n",
    "            auth_list = ast.literal_eval(auth_list_)\n",
    "\n",
    "            #Get first author details\n",
    "            if auth_list[0]['author_position'] == 'first':\n",
    "                if len(auth_list[0]['institutions'][0]) > 0:\n",
    "                    if auth_list[0]['institutions'][0]['country_code'] == country_code:\n",
    "                        if len(auth_list[0]['author']) > 0:\n",
    "                            first_auth = auth_list[0]['author']['display_name']\n",
    "                            first_auth_orcid = auth_list[0]['author']['orcid']\n",
    "                            first_auth_inst = auth_list[0]['institutions'][0]['display_name']\n",
    "                            first_auth_country = auth_list[0]['institutions'][0]['country_code']\n",
    "\n",
    "            #Get collaborator authors' details\n",
    "            collab_list = {}\n",
    "            df_collabs = pd.DataFrame()\n",
    "            for auth in auth_list:\n",
    "                if len(auth) > 0:\n",
    "                    for inst in auth['institutions']:\n",
    "                        if len(inst) > 0:\n",
    "                            if inst['country_code'] == country_code_collab:\n",
    "                                if len(auth['author']) > 0:\n",
    "                                    col_auth = auth['author']['display_name']\n",
    "                                    col_auth_orcid = auth['author']['orcid']\n",
    "                                    col_auth_inst = inst['display_name']\n",
    "                                    col_auth_country = inst['country_code']\n",
    "                                    col_auth_dict = {\n",
    "                                        'col_auth_orcid': col_auth_orcid,\n",
    "                                        'col_auth_inst': col_auth_inst,\n",
    "                                        'col_auth_country': col_auth_country\n",
    "                                    }\n",
    "                                    collab_list[col_auth] = col_auth_dict\n",
    "\n",
    "            #Add columns\n",
    "            df1.iloc[i,26] = first_auth\n",
    "            df1.iloc[i,27] = first_auth_orcid\n",
    "            df1.iloc[i,28] = first_auth_inst\n",
    "            df1.iloc[i,29] = first_auth_country\n",
    "            df1.iloc[i,30] = str(collab_list)\n",
    "        \n",
    "        df1.to_csv(dataDir_col + file[:-4] + '_' + country_code_collab + '_col_proc.csv', index=False)"
   ]
  },
  {
   "cell_type": "markdown",
   "id": "beeadc41",
   "metadata": {},
   "source": [
    "Combine yearly batches, remove duplicate publications, split by year again:"
   ]
  },
  {
   "cell_type": "code",
   "execution_count": 10,
   "id": "216ffc7e",
   "metadata": {},
   "outputs": [
    {
     "name": "stdout",
     "output_type": "stream",
     "text": [
      "Opening works_GB_2018_ES_col_proc.csv...rows: 153311\n",
      "Opening works_GB_2017_ES_col_proc.csv...rows: 156015\n",
      "Opening works_GB_2022_ES_col_proc.csv...rows: 112760\n",
      "Opening works_GB_2019_ES_col_proc.csv...rows: 161160\n",
      "Opening works_GB_2021_ES_col_proc.csv...rows: 187462\n",
      "Opening works_GB_2020_ES_col_proc.csv...rows: 172384\n"
     ]
    }
   ],
   "source": [
    "df_total = pd.DataFrame()\n",
    "for file in os.listdir(dataDir_col):\n",
    "    if 'works_' + country_code in file:\n",
    "        if '_proc' in file:\n",
    "            df_load = pd.read_csv(dataDir_col + file)\n",
    "            print('Opening ' + file + '...rows: ' + str(len(df_load)))\n",
    "            df_total = pd.concat([df_total, df_load])\n",
    "            \n",
    "df_total = df_total.sort_values('publication_date')\n",
    "df1 = df_total.drop_duplicates(subset=['id'])\n",
    "df1.to_csv(dataDir_col + 'works_' + country_code + '_first_auth_' + country_code_collab + '_col_since2017.csv', index=False)\n",
    "\n",
    "df1 = pd.read_csv(dataDir_col + 'works_' + country_code + '_first_auth_' + country_code_collab + '_col_since2017.csv')\n",
    "pub_years = df1['publication_year'].unique()\n",
    "for year in pub_years:\n",
    "    df1_y = df1.loc[df1['publication_year'] == year]\n",
    "    df1_y.to_csv(dataDir_col + 'works_' + country_code + '_first_auth_' + str(year) + '_' + country_code_collab + '_col_proc2.csv', index=False)"
   ]
  },
  {
   "cell_type": "markdown",
   "id": "418e95da",
   "metadata": {},
   "source": [
    "#  "
   ]
  },
  {
   "cell_type": "markdown",
   "id": "63d3fd42",
   "metadata": {},
   "source": [
    "#### Process data to surface concepts related to each publication, by year:"
   ]
  },
  {
   "cell_type": "code",
   "execution_count": null,
   "id": "f3d2f30a",
   "metadata": {
    "scrolled": false
   },
   "outputs": [],
   "source": [
    "for year in range(year_i, year_f): #range(2017, 2023)\n",
    "    \n",
    "    df_pubs = pd.read_csv(dataDir_col + 'works_' + country_code + '_first_auth_' + str(year) + '_' + country_code_collab + '_col_proc2.csv')\n",
    "    print(len(df_pubs))\n",
    "    \n",
    "    batch_size = 10000\n",
    "\n",
    "    start = time.time()\n",
    "    ind = 0\n",
    "    for i in range(0, len(df_pubs)):\n",
    "        if i == 0:\n",
    "            start_batch = time.time()\n",
    "            df_concepts_batch = pd.DataFrame()\n",
    "\n",
    "        pub_id = df_pubs.iloc[i]['id']\n",
    "        #Get concepts\n",
    "        concepts_ = df_pubs.iloc[i]['concepts']\n",
    "        concepts = ast.literal_eval(concepts_)\n",
    "        for j in range(0, len(concepts)):\n",
    "            ind+=1\n",
    "            row = pd.DataFrame(data={\n",
    "                'pub_id': pub_id,\n",
    "                'concept': concepts[j]['display_name'],\n",
    "                'concept_id': concepts[j]['id'],\n",
    "                'concept_level': concepts[j]['level']\n",
    "            }, index=[ind])\n",
    "            df_concepts_batch = pd.concat([df_concepts_batch, row]) \n",
    "\n",
    "        if (np.remainder(i, batch_size) == 0) & (i>0):\n",
    "            if i == batch_size:\n",
    "                df_concepts_batch.to_csv(dataDir + 'concepts_by_pub_' + country_code + '_first_auth_' + str(year) + '.csv', index=False)\n",
    "            else:\n",
    "                df_concepts = pd.read_csv(dataDir + 'concepts_by_pub_' + country_code + '_first_auth_' + str(year) + '.csv')\n",
    "                df_concepts = pd.concat([df_concepts, df_concepts_batch])\n",
    "                df_concepts.to_csv(dataDir + 'concepts_by_pub_' + country_code + '_first_auth_' + str(year) + '.csv', index=False)\n",
    "                print(str(len(df_concepts)) + ' rows saved.')\n",
    "            end_batch = time.time()\n",
    "            t_batch = end_batch - start_batch\n",
    "            rate_batch = batch_size/t_batch\n",
    "            t_remaining = round(((len(df_pubs) - i)/rate_batch)/60,0)\n",
    "            print('Processing row ' + str(i) + '...at rate ' + str(round(rate_batch,0)) + ' rows/s...' + str(t_remaining) + ' min estimated remaining.')\n",
    "            start_batch = time.time()\n",
    "            df_concepts_batch = pd.DataFrame()\n",
    "\n",
    "    end = time.time()   \n",
    "    t = end - start\n",
    "    print('Runtime: ' + str(round(t/60, 1)) + ' min')\n",
    "    \n",
    "    df_concepts = pd.read_csv(dataDir + 'concepts_by_pub_' + country_code + '_first_auth_' + str(year) + '.csv')\n",
    "    df_concepts['concept'] = df_concepts['concept'].str.lower()\n",
    "    df_concepts.to_csv(dataDir + 'concepts_by_pub_' + country_code + '_first_auth_' + str(year) + '.csv', index=False)"
   ]
  },
  {
   "cell_type": "markdown",
   "id": "de0c39d7",
   "metadata": {},
   "source": [
    "Combine yearly batches:"
   ]
  },
  {
   "cell_type": "code",
   "execution_count": null,
   "id": "8ad9be7f",
   "metadata": {},
   "outputs": [],
   "source": [
    "df_total = pd.DataFrame()\n",
    "for file in os.listdir(dataDir):\n",
    "    if 'concepts_by_pub_' + country_code + '_first_auth_' in file:\n",
    "        #print(file)\n",
    "        df_load = pd.read_csv(dataDir + file)\n",
    "        print('Opening ' + file + '...rows: ' + str(len(df_load)))\n",
    "        df_total = pd.concat([df_total, df_load])\n",
    "\n",
    "df_total = df_total.sort_values('concept_level').reset_index(drop=True)\n",
    "df_total.to_csv(dataDir + 'concepts_by_pub_' + country_code + '_first_auth_since2017.csv', index=False)"
   ]
  }
 ],
 "metadata": {
  "kernelspec": {
   "display_name": "Python 3 (ipykernel)",
   "language": "python",
   "name": "python3"
  },
  "language_info": {
   "codemirror_mode": {
    "name": "ipython",
    "version": 3
   },
   "file_extension": ".py",
   "mimetype": "text/x-python",
   "name": "python",
   "nbconvert_exporter": "python",
   "pygments_lexer": "ipython3",
   "version": "3.9.12"
  }
 },
 "nbformat": 4,
 "nbformat_minor": 5
}
